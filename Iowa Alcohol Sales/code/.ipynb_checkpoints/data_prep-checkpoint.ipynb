{
 "cells": [
  {
   "cell_type": "code",
   "execution_count": 1,
   "metadata": {},
   "outputs": [],
   "source": [
    "#Import modules\n",
    "import pandas as pd \n",
    "import numpy as np\n",
    "import matplotlib.pyplot as plt \n",
    "import PyPDF2 as pdf\n",
    "import seaborn as sns"
   ]
  },
  {
   "cell_type": "code",
   "execution_count": 2,
   "metadata": {},
   "outputs": [],
   "source": [
    "#Import the dataset\n",
    "df2=pd.read_csv(r'C:\\Users\\BURROW\\data_portfolio\\Iowa_Alcohol_sales\\data\\raw\\2019_Iowa_Liquor_Sales.csv',low_memory=False)\n",
    "\n",
    "#All of the columns will be shown in the dataset\n",
    "pd.set_option('display.max_columns',None)"
   ]
  },
  {
   "cell_type": "code",
   "execution_count": 3,
   "metadata": {},
   "outputs": [
    {
     "data": {
      "text/plain": [
       "(2380345, 24)"
      ]
     },
     "execution_count": 3,
     "metadata": {},
     "output_type": "execute_result"
    }
   ],
   "source": [
    "#Shows the rows and columns in the dataset.  \n",
    "#Rows: 2380345   #Columns: 24\n",
    "df2.shape"
   ]
  },
  {
   "cell_type": "code",
   "execution_count": 4,
   "metadata": {},
   "outputs": [
    {
     "name": "stdout",
     "output_type": "stream",
     "text": [
      "<class 'pandas.core.frame.DataFrame'>\n",
      "RangeIndex: 2380345 entries, 0 to 2380344\n",
      "Data columns (total 24 columns):\n",
      " #   Column                 Dtype  \n",
      "---  ------                 -----  \n",
      " 0   Invoice/Item Number    object \n",
      " 1   Date                   object \n",
      " 2   Store Number           int64  \n",
      " 3   Store Name             object \n",
      " 4   Address                object \n",
      " 5   City                   object \n",
      " 6   Zip Code               float64\n",
      " 7   Store Location         object \n",
      " 8   County Number          float64\n",
      " 9   County                 object \n",
      " 10  Category               float64\n",
      " 11  Category Name          object \n",
      " 12  Vendor Number          float64\n",
      " 13  Vendor Name            object \n",
      " 14  Item Number            int64  \n",
      " 15  Item Description       object \n",
      " 16  Pack                   int64  \n",
      " 17  Bottle Volume (ml)     int64  \n",
      " 18  State Bottle Cost      float64\n",
      " 19  State Bottle Retail    float64\n",
      " 20  Bottles Sold           int64  \n",
      " 21  Sale (Dollars)         float64\n",
      " 22  Volume Sold (Liters)   float64\n",
      " 23  Volume Sold (Gallons)  float64\n",
      "dtypes: float64(9), int64(5), object(10)\n",
      "memory usage: 435.9+ MB\n"
     ]
    }
   ],
   "source": [
    "#Look at the datatypes and memory usage of the dataframe\n",
    "df2.info()"
   ]
  },
  {
   "cell_type": "code",
   "execution_count": 5,
   "metadata": {},
   "outputs": [
    {
     "data": {
      "text/plain": [
       "2005028420"
      ]
     },
     "execution_count": 5,
     "metadata": {},
     "output_type": "execute_result"
    }
   ],
   "source": [
    "#Current memory usage of dataframe\n",
    "df2.memory_usage(deep=True).sum()"
   ]
  },
  {
   "cell_type": "code",
   "execution_count": 6,
   "metadata": {},
   "outputs": [
    {
     "data": {
      "text/plain": [
       "(2380345, 24)"
      ]
     },
     "execution_count": 6,
     "metadata": {},
     "output_type": "execute_result"
    }
   ],
   "source": [
    "#Drop duplicate values in the dataset\n",
    "df2.drop_duplicates(inplace = True)\n",
    "\n",
    "#View the number of columns left\n",
    "df2.shape"
   ]
  },
  {
   "cell_type": "code",
   "execution_count": 7,
   "metadata": {},
   "outputs": [
    {
     "data": {
      "text/plain": [
       "Invoice/Item Number           0\n",
       "Date                          0\n",
       "Store Number                  0\n",
       "Store Name                    0\n",
       "Address                    4764\n",
       "City                       4764\n",
       "Zip Code                   4764\n",
       "Store Location           219390\n",
       "County Number              4764\n",
       "County                     4764\n",
       "Category                   2918\n",
       "Category Name              2918\n",
       "Vendor Number                 1\n",
       "Vendor Name                   1\n",
       "Item Number                   0\n",
       "Item Description              0\n",
       "Pack                          0\n",
       "Bottle Volume (ml)            0\n",
       "State Bottle Cost             0\n",
       "State Bottle Retail           0\n",
       "Bottles Sold                  0\n",
       "Sale (Dollars)                0\n",
       "Volume Sold (Liters)          0\n",
       "Volume Sold (Gallons)         0\n",
       "dtype: int64"
      ]
     },
     "execution_count": 7,
     "metadata": {},
     "output_type": "execute_result"
    }
   ],
   "source": [
    "#Look at the dataset\n",
    "df2.isna().sum()"
   ]
  },
  {
   "cell_type": "code",
   "execution_count": 8,
   "metadata": {},
   "outputs": [
    {
     "data": {
      "text/plain": [
       "Index(['Invoice/Item Number', 'Date', 'Store Number', 'Store Name', 'City',\n",
       "       'Zip Code', 'Store Location', 'County Number', 'County',\n",
       "       'Category Name', 'Vendor Number', 'Vendor Name', 'Item Number',\n",
       "       'Item Description', 'Pack', 'Bottle Volume (ml)', 'State Bottle Cost',\n",
       "       'State Bottle Retail', 'Bottles Sold', 'Sale (Dollars)',\n",
       "       'Volume Sold (Liters)'],\n",
       "      dtype='object')"
      ]
     },
     "execution_count": 8,
     "metadata": {},
     "output_type": "execute_result"
    }
   ],
   "source": [
    "#Remove unncessary columns to reduce memory usage \n",
    "drop_columns = ['Address','Category','Volume Sold (Gallons)']\n",
    "df2=df2.drop(columns = drop_columns)\n",
    "\n",
    "#Check the results \n",
    "df2.columns"
   ]
  },
  {
   "cell_type": "code",
   "execution_count": 9,
   "metadata": {},
   "outputs": [
    {
     "name": "stderr",
     "output_type": "stream",
     "text": [
      "<ipython-input-9-3a484af8958b>:5: FutureWarning: Series.dt.weekofyear and Series.dt.week have been deprecated.  Please use Series.dt.isocalendar().week instead.\n",
      "  df2['week']=pd.to_datetime(df2['Date']).dt.week\n"
     ]
    }
   ],
   "source": [
    "#Add one new columns to the dataframe \n",
    "df2['gross_profit'] = df2['State Bottle Retail'] - df2['State Bottle Cost']\n",
    "\n",
    "#Make a week column \n",
    "df2['week']=pd.to_datetime(df2['Date']).dt.week\n",
    "\n",
    "#Make a month column \n",
    "df2['month']=pd.to_datetime(df2['Date']).dt.month\n"
   ]
  },
  {
   "cell_type": "code",
   "execution_count": 10,
   "metadata": {},
   "outputs": [
    {
     "data": {
      "text/plain": [
       "Invoice/Item Number        0\n",
       "Date                       0\n",
       "Store Name                 0\n",
       "Store Number               0\n",
       "County Number           4764\n",
       "County                  4764\n",
       "Category Name           2918\n",
       "Vendor Name                1\n",
       "Vendor Number              1\n",
       "Item Number                0\n",
       "Item Description           0\n",
       "Pack                       0\n",
       "Bottle Volume (ml)         0\n",
       "State Bottle Cost          0\n",
       "State Bottle Retail        0\n",
       "Bottles Sold               0\n",
       "Sale (Dollars)             0\n",
       "Volume Sold (Liters)       0\n",
       "gross_profit               0\n",
       "week                       0\n",
       "month                      0\n",
       "Store                      0\n",
       "City                       0\n",
       "Zip Code                   0\n",
       "longitude                  0\n",
       "latitude                   0\n",
       "dtype: int64"
      ]
     },
     "execution_count": 10,
     "metadata": {},
     "output_type": "execute_result"
    }
   ],
   "source": [
    "#Import the dataset of liquor stores\n",
    "store_df=pd.read_csv(r'C:\\Users\\BURROW\\data_portfolio\\Iowa_Alcohol_sales\\data\\raw\\Iowa_Liquor_Stores.csv')\n",
    "\n",
    "#Split the store address column into longitude and latitude\n",
    "split_df=store_df['Store Address'].str.split(expand=True)\n",
    "\n",
    "#Get the numbers in the column\n",
    "store_df['longitude']=split_df[1].str.slice(start=1)\n",
    "store_df['latitude']=split_df[2].str.slice(stop=-1)\n",
    "\n",
    "subset_df=df2[['Invoice/Item Number','Date','Store Name','Store Number','County Number','County','Category Name','Vendor Name','Vendor Number','Item Number','Item Description','Pack','Bottle Volume (ml)','State Bottle Cost','State Bottle Retail','Bottles Sold','Sale (Dollars)','Volume Sold (Liters)','gross_profit','week','month']]\n",
    "subset_store_df=store_df[['Store','City','Zip Code','longitude','latitude']]\n",
    "\n",
    "#Merge the df and store_df to get zip code , city and store location columns\n",
    "df2=subset_df.merge(subset_store_df,left_on='Store Number',right_on='Store')\n",
    "\n",
    "#Check the na columns in the dataframe. The county number , county and category name , vendor name are still null\n",
    "df2.isna().sum()"
   ]
  },
  {
   "cell_type": "code",
   "execution_count": 11,
   "metadata": {},
   "outputs": [
    {
     "data": {
      "text/plain": [
       "Invoice/Item Number        0\n",
       "Date                       0\n",
       "Store Number               0\n",
       "Store Name                 0\n",
       "Zip Code                   0\n",
       "City                       0\n",
       "County                  4764\n",
       "County Number           4764\n",
       "longitude                  0\n",
       "latitude                   0\n",
       "Vendor Name                0\n",
       "Vendor Number              1\n",
       "Item Number                0\n",
       "Item Description           0\n",
       "Pack                       0\n",
       "Bottle Volume (ml)         0\n",
       "State Bottle Cost          0\n",
       "State Bottle Retail        0\n",
       "Bottles Sold               0\n",
       "Sale (Dollars)             0\n",
       "Volume Sold (Liters)       0\n",
       "gross_profit               0\n",
       "week                       0\n",
       "month                      0\n",
       "Category Name              0\n",
       "dtype: int64"
      ]
     },
     "execution_count": 11,
     "metadata": {},
     "output_type": "execute_result"
    }
   ],
   "source": [
    "#Load the Iowa_Liquor_Products excel file into a dataframe to get category name\n",
    "products_df=pd.read_csv(r'C:\\Users\\BURROW\\data_portfolio\\Iowa_Alcohol_sales\\data\\raw\\Iowa_Liquor_Products.csv')\n",
    "\n",
    "#Replace value of x904631 with 904631 in the Item Number column\n",
    "products_df['Item Number'].replace(to_replace='x904631',value='904631',inplace=True)\n",
    "\n",
    "#Change the data type of Item Number column from object to int\n",
    "products_df['Item Number']=products_df['Item Number'].astype(int)\n",
    "\n",
    "#Merge the products_df and df to get Category name.\n",
    "subset_df2=df2[['Invoice/Item Number','Date','Store Number','Store Name','Zip Code','City','County','County Number','longitude','latitude','Vendor Name','Vendor Number','Item Number','Item Description','Pack','Bottle Volume (ml)','State Bottle Cost','State Bottle Retail','Bottles Sold','Sale (Dollars)','Volume Sold (Liters)','gross_profit','week','month']]\n",
    "df2=subset_df2.merge(products_df[['Item Number','Category Name']],on=\"Item Number\")\n",
    "\n",
    "#Find the null value in vendor name column \n",
    "df2[df2['Vendor Name'].isna()]\n",
    "\n",
    "#Replace the null value in Vendor Name with SAZERAC NORTH AMERICA\n",
    "df2['Vendor Name'].fillna(value='SAZERAC NORTH AMERICA',inplace=True)\n",
    "\n",
    "#Check the null values in the dataframe \n",
    "#County Name, county number are null\n",
    "df2.isna().sum()"
   ]
  },
  {
   "cell_type": "code",
   "execution_count": 12,
   "metadata": {},
   "outputs": [],
   "source": [
    "#Remove the null values in county and county number (need to think of a better solution) / replace the values\n",
    "df2.dropna(inplace=True)"
   ]
  },
  {
   "cell_type": "code",
   "execution_count": 13,
   "metadata": {},
   "outputs": [],
   "source": [
    "#Rename the columns \n",
    "renamed_columns = {'Invoice/Item Number':'invoice_no','Date':'date','Store Number':'store_no','Store Name':'name','City':'city','Zip Code':'zipcode','County Number':'county_no','County':'county','Category Name':'category','Vendor Number':'vendor_no','Vendor Name':'vendor','Item Description':'item','Pack':'pack','Bottle Volume (ml)': 'bottle_vol_ml','State Bottle Cost':'bottle_cost', 'State Bottle Retail':'bottle_retail','Sale (Dollars)':'sales','Bottles Sold':'bottles_sold','Volume Sold (Liters)':'vol_sold_liters',}\n",
    "\n",
    "#Rename the columns \n",
    "df2.rename(columns = renamed_columns,inplace=True)\n",
    "\n",
    "#Rearrange columns in the df_new dataframe \n",
    "df2=df2.reindex(columns=['invoice_no','date','week','month','store_no','name','city','zipcode','latitude','longitude','county_no','county','category','vendor_no','vendor','item','pack','bottle_vol_ml','bottle_cost','bottle_retail','bottles_sold','sales','gross_profit','vol_sold_liters'])"
   ]
  },
  {
   "cell_type": "code",
   "execution_count": 14,
   "metadata": {},
   "outputs": [
    {
     "data": {
      "text/plain": [
       "array(['24289100004', '24289100003', '24289100002', ..., '16676600003',\n",
       "       '16676600002', '16676600001'], dtype=object)"
      ]
     },
     "execution_count": 14,
     "metadata": {},
     "output_type": "execute_result"
    }
   ],
   "source": [
    "#Invoice_no column\n",
    "#Remove the numbers from the invoice_no column \n",
    "df2['invoice_no']= df2['invoice_no'].str.extract(r'(\\d\\d\\d\\d\\d\\d\\d\\d\\d\\d\\d)')\n",
    "\n",
    "#Check the results \n",
    "df2['invoice_no'].sort_values(ascending=False).unique()"
   ]
  },
  {
   "cell_type": "code",
   "execution_count": 15,
   "metadata": {},
   "outputs": [],
   "source": [
    "#Date column (mm/dd/yyyy)\n",
    "#Change the date type from object to datetime64\n",
    "df2['date']=df2['date'].astype(np.datetime64)\n",
    "\n",
    "#Change date format to mm/dd/yyyy\n",
    "df2['date']=df2['date'].dt.strftime('%m-%d-%y')\n"
   ]
  },
  {
   "cell_type": "code",
   "execution_count": 16,
   "metadata": {},
   "outputs": [
    {
     "data": {
      "text/plain": [
       "array(['100% Agave Tequila', 'Aged Dark Rum', 'American Brandies',\n",
       "       'American Cordials & Liqueurs',\n",
       "       'American Distilled Spirits Specialty', 'American Dry Gins',\n",
       "       'American Flavored Vodka', 'American Schnapps',\n",
       "       'American Sloe Gins', 'American Vodkas', 'American Whiskies',\n",
       "       'Blended Whiskies', 'Bottled in Bond Bourbon', 'Canadian Whiskies',\n",
       "       'Cocktails/RTD', 'Coffee Liqueurs', 'Corn Whiskies',\n",
       "       'Cream Liqueurs', 'Flavored Gin', 'Flavored Rum', 'Gold Rum',\n",
       "       'Imported Brandies', 'Imported Cordials & Liqueurs',\n",
       "       'Imported Distilled Spirits Specialty', 'Imported Dry Gins',\n",
       "       'Imported Flavored Vodka', 'Imported Gins', 'Imported Schnapps',\n",
       "       'Imported Vodkas', 'Imported Whiskies', 'Iowa Distilleries',\n",
       "       'Irish Whiskies', 'Mezcal', 'Mixto Tequila',\n",
       "       'Neutral Grain Spirits', 'Neutral Grain Spirits Flavored',\n",
       "       'Scotch Whiskies', 'Single Barrel Bourbon Whiskies',\n",
       "       'Single Malt Scotch', 'Special Order Items', 'Spiced Rum',\n",
       "       'Straight Bourbon Whiskies', 'Straight Rye Whiskies',\n",
       "       'Temporary & Specialty Packages', 'Tennessee Whiskies',\n",
       "       'Triple Sec', 'Whiskey Liqueur', 'White Rum'], dtype=object)"
      ]
     },
     "execution_count": 16,
     "metadata": {},
     "output_type": "execute_result"
    }
   ],
   "source": [
    "#Replace catgegory names to a standardize name\n",
    "df2['category'].replace(to_replace='American Cordials & Liqueur',value='American Cordials & Liqueurs',inplace=True)\n",
    "df2['category'].replace(to_replace='American Distilled Spirit Specialty',value='American Distilled Spirits Specialty',inplace=True)\n",
    "df2['category'].replace(to_replace='American Vodka',value='American Vodkas',inplace=True)\n",
    "df2['category'].replace(to_replace='Cocktails /RTD',value='Cocktails/RTD',inplace=True)\n",
    "df2['category'].replace(to_replace='Imported Cordials & Liqueur',value='Imported Cordials & Liqueurs',inplace=True)\n",
    "df2['category'].replace(to_replace='Imported Distilled Spirit Specialty',value='Imported Distilled Spirits Specialty',inplace=True)\n",
    "df2['category'].replace(to_replace='Imported Vodka',value='Imported Vodkas',inplace=True)\n",
    "df2['category'].replace(to_replace='Temporary &  Specialty Packages',value='Temporary & Specialty Packages',inplace=True)\n",
    "df2['category'].sort_values(ascending=True).unique()"
   ]
  },
  {
   "cell_type": "code",
   "execution_count": 17,
   "metadata": {},
   "outputs": [],
   "source": [
    "#Create a new column which is a sub category of the main category\n",
    "condition=[df2.category=='100% Agave Tequila', df2.category=='Aged Dark Rum', \n",
    "       df2.category=='American Brandies',\n",
    "       df2.category=='American Cordials & Liqueurs',\n",
    "       df2.category=='American Distilled Spirits Specialty', df2.category=='American Dry Gins',\n",
    "       df2.category=='American Flavored Vodka', df2.category=='American Schnapps',\n",
    "       df2.category=='American Sloe Gins', df2.category=='American Vodkas', df2.category=='American Whiskies',\n",
    "       df2.category=='Blended Whiskies', df2.category=='Bottled in Bond Bourbon', df2.category=='Canadian Whiskies',\n",
    "       df2.category=='Cocktails/RTD', df2.category=='Coffee Liqueurs', df2.category=='Corn Whiskies',\n",
    "       df2.category=='Cream Liqueurs', df2.category=='Flavored Gin', df2.category=='Flavored Rum', df2.category=='Gold Rum',\n",
    "       df2.category=='Imported Brandies', df2.category=='Imported Cordials & Liqueurs',\n",
    "       df2.category=='Imported Distilled Spirits Specialty', df2.category=='Imported Dry Gins',\n",
    "       df2.category=='Imported Flavored Vodka', df2.category=='Imported Gins', df2.category=='Imported Schnapps',\n",
    "       df2.category=='Imported Vodkas', df2.category=='Imported Whiskies', df2.category=='Iowa Distilleries',\n",
    "       df2.category=='Irish Whiskies', df2.category=='Mezcal', df2.category=='Mixto Tequila',\n",
    "       df2.category=='Neutral Grain Spirits', df2.category=='Neutral Grain Spirits Flavored',\n",
    "       df2.category=='Scotch Whiskies', df2.category=='Single Barrel Bourbon Whiskies',\n",
    "       df2.category=='Single Malt Scotch', df2.category=='Special Order Items', df2.category=='Spiced Rum',\n",
    "       df2.category=='Straight Bourbon Whiskies', df2.category=='Straight Rye Whiskies',\n",
    "       df2.category=='Temporary & Specialty Packages', df2.category=='Tennessee Whiskies',\n",
    "       df2.category=='Triple Sec', df2.category=='Whiskey Liqueur', df2.category=='White Rum']\n",
    "\n",
    "choice=['Tequila','Rum','Brandy','Cordials & Liqueur','Others','Gin','Vodka','Cordials & Liqueur','Gin','Vodka',\n",
    "       'Whiskey','Whiskey','Others','Whiskey','Cocktails','Cordials & Liqueur',\n",
    "       'Whiskey','Cordials & Liqueur','Gin','Rum','Rum','Brandy','Cordials & Liqueur','Others','Gin','Vodka',\n",
    "       'Gin','Cordials & Liqueur','Vodka','Whiskey','Others','Whiskey','Others','Others','Others',\n",
    "        'Others','Whiskey','Whiskey','Whiskey','Others','Rum','Whiskey','Whiskey','Others',\n",
    "        'Whiskey','Cordials & Liqueur','Cordials & Liqueur','Rum']\n",
    "\n",
    "df2['sub_category']=np.select(condition,choice)"
   ]
  },
  {
   "cell_type": "code",
   "execution_count": 18,
   "metadata": {},
   "outputs": [],
   "source": [
    "#Rearrange sub_category column after category column\n",
    "df2=df2[['invoice_no', 'date', 'week', 'month', 'store_no', 'name', 'city',\n",
    "       'zipcode', 'latitude', 'longitude', 'county_no', 'county', 'category','sub_category',\n",
    "       'vendor_no', 'vendor', 'item', 'pack', 'bottle_vol_ml', 'bottle_cost',\n",
    "       'bottle_retail', 'bottles_sold', 'sales', 'gross_profit',\n",
    "       'vol_sold_liters']]"
   ]
  },
  {
   "cell_type": "code",
   "execution_count": 19,
   "metadata": {},
   "outputs": [
    {
     "data": {
      "text/plain": [
       "dtype('int16')"
      ]
     },
     "execution_count": 19,
     "metadata": {},
     "output_type": "execute_result"
    }
   ],
   "source": [
    "#Store No column \n",
    "#Change the data type of store_no column from int64 to int16 \n",
    "df2['store_no']=df2['store_no'].astype(np.int16)\n",
    "\n",
    "#Check result\n",
    "df2['store_no'].dtypes"
   ]
  },
  {
   "cell_type": "code",
   "execution_count": 20,
   "metadata": {},
   "outputs": [],
   "source": [
    "#Name column \n",
    "\n",
    "#Change the text format to title\n",
    "df2['name']=df2['name'].str.title()\n",
    "\n",
    "#Split the name column into two and take the name column only\n",
    "splitname=df2['name'].str.split(pat='/',expand=True)\n",
    "\n",
    "#Take the first column of splitname and put in into name column\n",
    "df2['name']=splitname[0]\n"
   ]
  },
  {
   "cell_type": "code",
   "execution_count": 21,
   "metadata": {},
   "outputs": [
    {
     "data": {
      "text/plain": [
       "array(['Ackley', 'Adair', 'Adel', 'Afton', 'Akron', 'Albert City',\n",
       "       'Albia', 'Albion', 'Alburnett', 'Alden', 'Algona', 'Allison',\n",
       "       'Alta', 'Alton', 'Altoona', 'Amana', 'Ames', 'Anamosa', 'Anita',\n",
       "       'Ankeny', 'Anthon', 'Aplington', 'Arlington', 'Armstrong',\n",
       "       'Arnolds Park', 'Atkins', 'Atlantic', 'Audubon', 'Aurelia',\n",
       "       'Avoca', 'Baldwin', 'Bancroft', 'Baxter', 'Bedford',\n",
       "       'Belle Plaine', 'Bellevue', 'Belmond', 'Bettendorf', 'Bevington',\n",
       "       'Blairstown', 'Bloomfield', 'Blue Grass', 'Bondurant', 'Boone',\n",
       "       'Britt', 'Brooklyn', 'Buffalo', 'Buffalo Center', 'Burlington',\n",
       "       'Bussey', 'Calmar', 'Camanche', 'Carlisle', 'Carroll',\n",
       "       'Carter Lake', 'Cascade', 'Casey', 'Cedar Falls', 'Cedar Rapids',\n",
       "       'Center Point', 'Centerville', 'Central City', 'Chariton',\n",
       "       'Charles City', 'Cherokee', 'Clarence', 'Clarinda', 'Clarion',\n",
       "       'Clarksville', 'Clear Lake', 'Clermont', 'Clinton', 'Clive',\n",
       "       'Coggon', 'Colfax', 'Colo', 'Columbus Junction', 'Conrad',\n",
       "       'Coon Rapids', 'Coralville', 'Corning', 'Correctionville',\n",
       "       'Corwith', 'Corydon', 'Council Bluffs', 'Crescent', 'Cresco',\n",
       "       'Creston', 'Cumming', 'Dakota City', 'Dallas Center', 'Danville',\n",
       "       'Davenport', 'Dayton', 'De Soto', 'Decorah', 'Delaware', 'Delhi',\n",
       "       'Delmar', 'Denison', 'Denver', 'Des Moines', 'Dewitt', 'Dexter',\n",
       "       'Donnellson', 'Doon', 'Dows', 'Dubuque', 'Dumont', 'Dunlap',\n",
       "       'Durant', 'Dyersville', 'Dysart', 'Eagle Grove', 'Earlham',\n",
       "       'Earling', 'Early', 'Eddyville', 'Edgewood', 'Eldon', 'Eldora',\n",
       "       'Eldridge', 'Elkader', 'Ellsworth', 'Elma', 'Ely', 'Emmetsburg',\n",
       "       'Essex', 'Estherville', 'Evansdale', 'Exira', 'Fairbank',\n",
       "       'Fairfax', 'Fairfield', 'Farley', 'Farmington', 'Fayette', 'Floyd',\n",
       "       'Fonda', 'Forest City', 'Fort Atkinson', 'Fort Dodge',\n",
       "       'Fort Madison', 'Fredericksburg', 'Fremont', 'Garner', 'Garwin',\n",
       "       'George', 'Gilbertville', 'Gilmore City', 'Gladbrook', 'Glenwood',\n",
       "       'Glidden', 'Goldfield', 'Gowrie', 'Graettinger', 'Grand Junction',\n",
       "       'Grand Mound', 'Granger', 'Greene', 'Greenfield', 'Grimes',\n",
       "       'Grinnell', 'Griswold', 'Grundy Center', 'Guthrie Center',\n",
       "       'Guttenberg', 'Hamburg', 'Hampton', 'Harlan', 'Harpers Ferry',\n",
       "       'Hartley', 'Hawarden', 'Hazleton', 'Hiawatha', 'Hills', 'Hinton',\n",
       "       'Holstein', 'Holy Cross', 'Hospers', 'Hubbard', 'Hudson', 'Hull',\n",
       "       'Humboldt', 'Humeston', 'Huxley', 'Ida Grove', 'Independence',\n",
       "       'Indianola', 'Inwood', 'Iowa City', 'Iowa Falls', 'Ireton',\n",
       "       'Jefferson', 'Jesup', 'Jewell', 'Johnston', 'Kalona', 'Kanawha',\n",
       "       'Kellogg', 'Keokuk', 'Keosauqua', 'Keota', 'Kingsley', 'Knoxville',\n",
       "       'La Porte City', 'Lake City', 'Lake Mills', 'Lake Park',\n",
       "       'Lake View', 'Lamoni', 'Lamont', 'Lansing', 'Larchwood', 'Latimer',\n",
       "       'Laurens', 'Lawler', 'Le Claire', 'Le Grand', 'Le Mars', 'Lenox',\n",
       "       'Leon', 'Lisbon', 'Livermore', 'Logan', 'Lohrville', 'Lone Tree',\n",
       "       'Lost Nation', 'Lovilia', 'Madrid', 'Malvern', 'Manchester',\n",
       "       'Manly', 'Manning', 'Manson', 'Mapleton', 'Maquoketa', 'Marcus',\n",
       "       'Marengo', 'Marion', 'Marquette', 'Marshalltown', 'Martensdale',\n",
       "       'Mason City', 'Maxwell', 'Maynard', 'Mechanicsville', 'Mediapolis',\n",
       "       'Melbourne', 'Melcher-Dallas', 'Merrill', 'Middletown', 'Milford',\n",
       "       'Minden', 'Missouri Valley', 'Mitchellville', 'Monona', 'Monroe',\n",
       "       'Montezuma', 'Monticello', 'Montrose', 'Moravia', 'Morning Sun',\n",
       "       'Mt Ayr', 'Mt Pleasant', 'Mt Vernon', 'Muscatine', 'Nashua',\n",
       "       'Neola', 'Nevada', 'New Hampton', 'New Hartford', 'New London',\n",
       "       'New Sharon', 'New Virginia', 'Newton', 'Nichols', 'Nora Springs',\n",
       "       'North English', 'North Liberty', 'Northwood', 'Norwalk', 'Norway',\n",
       "       'Oakland', 'Oelwein', 'Ogden', 'Okoboji', 'Onawa', 'Orange City',\n",
       "       'Osage', 'Osceola', 'Oskaloosa', 'Otho', 'Ottumwa', 'Oxford',\n",
       "       'Pacific Junction', 'Palo', 'Panora', 'Parkersburg', 'Paullina',\n",
       "       'Pella', 'Peosta', 'Perry', 'Pleasant Hill', 'Pleasant Valley',\n",
       "       'Pleasantville', 'Pocahontas', 'Polk City', 'Postville',\n",
       "       'Prairie City', 'Primghar', 'Princeton', 'Raymond', 'Red Oak',\n",
       "       'Redfield', 'Reinbeck', 'Remsen', 'Riceville', 'Riverside',\n",
       "       'Robins', 'Rock Rapids', 'Rock Valley', 'Rockford', 'Rockwell',\n",
       "       'Rockwell City', 'Roland', 'Rolfe', 'Rudd', 'Runnells', 'Ruthven',\n",
       "       'Sac City', 'Sageville', 'Sanborn', 'Schleswig', 'Scranton',\n",
       "       'Sergeant Bluff', 'Seymour', 'Sheffield', 'Sheldon', 'Shellsburg',\n",
       "       'Shenandoah', 'Shueyville', 'Sibley', 'Sigourney', 'Sioux Center',\n",
       "       'Sioux City', 'Sioux Rapids', 'Slater', 'Sloan', 'Solon',\n",
       "       'Spencer', 'Spirit Lake', 'Springville', 'St Ansgar', 'St Charles',\n",
       "       'St Lucas', 'Stanton', 'Stanwood', 'State Center', 'Storm Lake',\n",
       "       'Story City', 'Stratford', 'Strawberry Point', 'Stuart', 'Sully',\n",
       "       'Sumner', 'Sutherland', 'Swea City', 'Swisher', 'Tabor', 'Tama',\n",
       "       'Templeton', 'Tiffin', 'Tipton', 'Toledo', 'Traer', 'Treynor',\n",
       "       'Tripoli', 'Truro', 'Urbana', 'Urbandale', 'Van Horne',\n",
       "       'Van Meter', 'Victor', 'Villisca', 'Vinton', 'Walcott', 'Walford',\n",
       "       'Walker', 'Wall Lake', 'Walnut', 'Wapello', 'Washburn',\n",
       "       'Washington', 'Washta', 'Waterloo', 'Waukee', 'Waukon', 'Waverly',\n",
       "       'Webster City', 'Wellman', 'Wellsburg', 'Wesley', 'West Bend',\n",
       "       'West Branch', 'West Burlington', 'West Des Moines',\n",
       "       'West Liberty', 'West Point', 'West Union', 'What Cheer',\n",
       "       'Wheatland', 'Williamsburg', 'Wilton', 'Windsor Heights',\n",
       "       'Winfield', 'Winterset', 'Winthrop', 'Woodbine', 'Woodward',\n",
       "       'Zwingle'], dtype=object)"
      ]
     },
     "execution_count": 21,
     "metadata": {},
     "output_type": "execute_result"
    }
   ],
   "source": [
    "#City column \n",
    "\n",
    "#Standardize all the values to title format \n",
    "df2['city']=df2['city'].str.title()\n",
    "\n",
    "#Check the unique values in the city column\n",
    "df2['city'].sort_values(ascending=True).unique()\n",
    "\n",
    "#Change the cities names\n",
    "df2['city']=df2['city'].replace([\"Arnold'S Park\",'Clearlake','Mount Pleasant','Mount Ayr','Mount Vernon','Leclaire','Lonetree','Saint Ansgar','Grand Mounds'],['Arnolds Park','Clear Lake','Mt Pleasant','Mt Ayr','Mt Vernon','Le Claire','Lone Tree','St Ansgar','Grand Mound'])\n"
   ]
  },
  {
   "cell_type": "code",
   "execution_count": 22,
   "metadata": {},
   "outputs": [],
   "source": [
    "#Change the data type of columns to a suitable one to reduce memory usage\n",
    "\n",
    "#County no\n",
    "#Change the data type from float to int 8. Int8 can take up to 127\n",
    "df2['county_no']=df2['county_no'].astype(np.int8)\n",
    "\n",
    "#County\n",
    "#Change the text format to title\n",
    "df2['county']=df2['county'].str.title()\n",
    "\n",
    "#Vendor \n",
    "#Change the text type to title \n",
    "df2['vendor']=df2['vendor'].str.title()\n",
    "\n",
    "#Vendor no \n",
    "df2['vendor_no']=df2['vendor_no'].astype(np.int16)\n",
    "\n",
    "#Pack \n",
    "#Change the datatype from int64 to int 8\n",
    "df2['pack']=df2['pack'].astype(np.int8)\n",
    "\n",
    "#Bottle_vol_ml\n",
    "#Change the data type from int64 to int16\n",
    "df2['bottle_vol_ml']=df2['bottle_vol_ml'].astype(np.int16)\n",
    "\n",
    "#Bottles cost\n",
    "#Change the data type from float64 to float16\n",
    "df2['bottle_cost']=df2['bottle_cost'].astype(np.float16)\n",
    "\n",
    "#Bottles retail \n",
    "#Change the data type from float 64 to float 16\n",
    "df2['bottle_retail']=df2['bottle_retail'].astype(np.float16)\n",
    "\n",
    "#Bottles sold \n",
    "#Change the data type from int64 to int16\n",
    "df2['bottles_sold']=df2['bottles_sold'].astype(np.int16)\n",
    "\n",
    "#Sales\n",
    "#Change data type from float 64 to float 32\n",
    "df2['sales']=df2['sales'].astype(np.float32)\n",
    "\n",
    "#Gross profit\n",
    "#Change the data type from float64 to float 16\n",
    "df2['gross_profit']=df2['gross_profit'].astype(np.float16)\n",
    "\n",
    "#Vol_sold_liters \n",
    "#Change the data type from float64 to float16\n",
    "df2['vol_sold_liters']=df2['vol_sold_liters'].astype(np.float16)"
   ]
  },
  {
   "cell_type": "code",
   "execution_count": 23,
   "metadata": {},
   "outputs": [],
   "source": [
    "#Category column \n",
    "\n",
    "#Replace the category values to a standard value\n",
    "df2.replace(to_replace=['American Cordials & Liqueur','American Distilled Spirit Specialty','American Vodka','Cocktails /RTD','Imported Cordials & Liqueur','Imported Distilled Spirit Specialty','Imported Vodka','Temporary &  Specialty Packages'], value=['American Cordials & Liqueurs','American Distilled Spirits Specialty','American Vodkas','Cocktails/RTD','Imported Cordials & Liqueurs','Imported Distilled Spirits Specialty','Imported Vodkas','Temporary & Specialty Packages'],inplace=True)"
   ]
  },
  {
   "cell_type": "code",
   "execution_count": 35,
   "metadata": {},
   "outputs": [
    {
     "data": {
      "image/png": "[encoded data removed]",
      "text/plain": [
       "<Figure size 432x288 with 1 Axes>"
      ]
     },
     "metadata": {
      "needs_background": "light"
     },
     "output_type": "display_data"
    },
    {
     "data": {
      "image/png": "[encoded data removed]",
      "text/plain": [
       "<Figure size 504x504 with 1 Axes>"
      ]
     },
     "metadata": {
      "needs_background": "light"
     },
     "output_type": "display_data"
    },
    {
     "data": {
      "image/png": "[encoded data removed]",
      "text/plain": [
       "<Figure size 504x504 with 1 Axes>"
      ]
     },
     "metadata": {
      "needs_background": "light"
     },
     "output_type": "display_data"
    },
    {
     "data": {
      "image/png": "[encoded data removed]",
      "text/plain": [
       "<Figure size 504x504 with 1 Axes>"
      ]
     },
     "metadata": {
      "needs_background": "light"
     },
     "output_type": "display_data"
    },
    {
     "data": {
      "image/png": "[encoded data removed]",
      "text/plain": [
       "<Figure size 504x504 with 1 Axes>"
      ]
     },
     "metadata": {
      "needs_background": "light"
     },
     "output_type": "display_data"
    },
    {
     "data": {
      "image/png": "[encoded data removed]",
      "text/plain": [
       "<Figure size 504x504 with 1 Axes>"
      ]
     },
     "metadata": {
      "needs_background": "light"
     },
     "output_type": "display_data"
    },
    {
     "data": {
      "image/png": "[encoded data removed]",
      "text/plain": [
       "<Figure size 504x504 with 1 Axes>"
      ]
     },
     "metadata": {
      "needs_background": "light"
     },
     "output_type": "display_data"
    },
    {
     "data": {
      "image/png": "[encoded data removed]",
      "text/plain": [
       "<Figure size 504x504 with 1 Axes>"
      ]
     },
     "metadata": {
      "needs_background": "light"
     },
     "output_type": "display_data"
    },
    {
     "data": {
      "image/png": "[encoded data removed]",
      "text/plain": [
       "<Figure size 504x504 with 1 Axes>"
      ]
     },
     "metadata": {
      "needs_background": "light"
     },
     "output_type": "display_data"
    },
    {
     "data": {
      "image/png": "[encoded data removed]",
      "text/plain": [
       "<Figure size 504x504 with 1 Axes>"
      ]
     },
     "metadata": {
      "needs_background": "light"
     },
     "output_type": "display_data"
    },
    {
     "data": {
      "image/png": "[encoded data removed]",
      "text/plain": [
       "<Figure size 504x504 with 1 Axes>"
      ]
     },
     "metadata": {
      "needs_background": "light"
     },
     "output_type": "display_data"
    },
    {
     "data": {
      "image/png": "[encoded data removed]",
      "text/plain": [
       "<Figure size 504x504 with 1 Axes>"
      ]
     },
     "metadata": {
      "needs_background": "light"
     },
     "output_type": "display_data"
    },
    {
     "data": {
      "image/png": "[encoded data removed]",
      "text/plain": [
       "<Figure size 504x504 with 1 Axes>"
      ]
     },
     "metadata": {
      "needs_background": "light"
     },
     "output_type": "display_data"
    },
    {
     "data": {
      "text/plain": [
       "<Figure size 504x504 with 0 Axes>"
      ]
     },
     "metadata": {},
     "output_type": "display_data"
    }
   ],
   "source": [
    "#Check for outliers \n",
    "#Use boxplot to check for outliers for continous variables only \n",
    "\n",
    "#Subset all numerical values into a dataframe\n",
    "df_numbers=df2.select_dtypes(include='number')\n",
    "\n",
    "#Identify the outliers in the dataframe\n",
    "for column in df_numbers:\n",
    "    df_numbers.boxplot([column])\n",
    "    plt.figure(figsize=[7,7]) \n"
   ]
  },
  {
   "cell_type": "code",
   "execution_count": 36,
   "metadata": {},
   "outputs": [
    {
     "name": "stdout",
     "output_type": "stream",
     "text": [
      "Although there are outliers in the boxplot, however they are not incorrect values. Hence they need not be removed\n"
     ]
    }
   ],
   "source": [
    "print('Although there are outliers in the boxplot, however they are not incorrect values. Hence they need not be removed')"
   ]
  },
  {
   "cell_type": "code",
   "execution_count": 37,
   "metadata": {},
   "outputs": [
    {
     "name": "stdout",
     "output_type": "stream",
     "text": [
      "Percentage of memory usage reduction:  13.158452886169064\n"
     ]
    }
   ],
   "source": [
    "#Check memory usage of edited dataframe\n",
    "df2.memory_usage(deep=True).sum()\n",
    "\n",
    "new_memory=1741197700\n",
    "old_memory=2005028420\n",
    "\n",
    "#Percentage reduction of dataset: 13.4%\n",
    "memory_reduction=(old_memory-new_memory) / old_memory * 100\n",
    "\n",
    "#Phrase\n",
    "print('Percentage of memory usage reduction: ',memory_reduction)"
   ]
  },
  {
   "cell_type": "code",
   "execution_count": 38,
   "metadata": {},
   "outputs": [],
   "source": [
    "#Data set is for tableau\n",
    "#Split the dataframe into the first 800k rows\n",
    "df2_p1=df2[:800000]\n",
    "\n",
    "#Split the dataframe into the second 800k rows\n",
    "df2_p2=df2[800000:1600000]\n",
    "\n",
    "#Split the dataframe into the last 755k rows\n",
    "df2_p3=df2[1600000:]"
   ]
  },
  {
   "cell_type": "code",
   "execution_count": 39,
   "metadata": {},
   "outputs": [
    {
     "name": "stderr",
     "output_type": "stream",
     "text": [
      "ERROR:root:Internal Python error in the inspect module.\n",
      "Below is the traceback from this internal error.\n",
      "\n",
      "\n",
      "KeyboardInterrupt\n",
      "\n"
     ]
    }
   ],
   "source": [
    "#Export the cleaned dataframe part 1 into xls file\n",
    "df2_p1.to_excel('C:/Users/BURROW/data_portfolio/Iowa_Alcohol_sales/data/processed/2019_Iowa_Liquor_Sales_cleaned_p1.xlsx')\n",
    "\n",
    "#Export the cleaned dataframe part 2 into xls file\n",
    "df2_p2.to_excel('C:/Users/BURROW/data_portfolio/Iowa_Alcohol_sales/data/processed/2019_Iowa_Liquor_Sales_cleaned_p2.xlsx')\n",
    "\n",
    "#Export the cleaned dataframe part 3 into xls file\n",
    "df2_p3.to_excel('C:/Users/BURROW/data_portfolio/Iowa_Alcohol_sales/data/processed/2019_Iowa_Liquor_Sales_cleaned_p3.xlsx')"
   ]
  },
  {
   "cell_type": "code",
   "execution_count": null,
   "metadata": {},
   "outputs": [],
   "source": [
    "#Dataset is for python analysis\n",
    "#Export the cleaned dataframe into csv file\n",
    "df2.to_csv('C:/Users/BURROW/data_portfolio/Iowa_Alcohol_sales/data/processed/2019_Iowa_Liquor_Sales_cleaned.csv')"
   ]
  }
 ],
 "metadata": {
  "kernelspec": {
   "display_name": "Python 3",
   "language": "python",
   "name": "python3"
  },
  "language_info": {
   "codemirror_mode": {
    "name": "ipython",
    "version": 3
   },
   "file_extension": ".py",
   "mimetype": "text/x-python",
   "name": "python",
   "nbconvert_exporter": "python",
   "pygments_lexer": "ipython3",
   "version": "3.8.5"
  }
 },
 "nbformat": 4,
 "nbformat_minor": 4
}
